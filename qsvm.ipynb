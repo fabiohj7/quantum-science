{
 "cells": [
  {
   "cell_type": "markdown",
   "id": "88bc2592-e8f2-4804-8eaf-c97a63a76fbc",
   "metadata": {
    "tags": []
   },
   "source": [
    "# QSVM\n",
    "\n",
    "## Quantum Kernel\n",
    "\n",
    "The idea behind it is to encode classical data into q-bits, then computing the dot product of the resulting states.\n",
    "\n",
    "### ZFeatureMap\n",
    "\n",
    "For each dimension in our feature set, there is going to be a qubit that will go through a Hadamard gate and a unitary gate.\n",
    "\n",
    "### PauliMatricerMap\n",
    "\n",
    "Adding X, Y, or Z gates to rotate certain amount in the bloch sphere."
   ]
  },
  {
   "cell_type": "markdown",
   "id": "d70f9d77-1d0a-4c63-bcb6-c9c3455f096d",
   "metadata": {},
   "source": [
    "# Quantum Error Correction"
   ]
  },
  {
   "cell_type": "code",
   "execution_count": 1,
   "id": "cbad958f-c043-4199-a303-4910d5feb90b",
   "metadata": {
    "tags": []
   },
   "outputs": [
    {
     "name": "stdout",
     "output_type": "stream",
     "text": [
      "\u001b[33mWARNING: Skipping qiskit as it is not installed.\u001b[0m\u001b[33m\n",
      "\u001b[0m\u001b[33mWARNING: Skipping qiskit-terra as it is not installed.\u001b[0m\u001b[33m\n",
      "\u001b[0m\u001b[33mWARNING: Skipping qiskit-ibmq-provider as it is not installed.\u001b[0m\u001b[33m\n",
      "\u001b[0m\u001b[33mWARNING: Skipping qiskit-aer as it is not installed.\u001b[0m\u001b[33m\n",
      "\u001b[0mNote: you may need to restart the kernel to use updated packages.\n"
     ]
    }
   ],
   "source": [
    "pip uninstall -y qiskit qiskit-terra qiskit-ibmq-provider qiskit-aer"
   ]
  },
  {
   "cell_type": "code",
   "execution_count": 2,
   "id": "c5b3ce35-fc84-471b-ae1c-cf5f27749d78",
   "metadata": {
    "tags": []
   },
   "outputs": [
    {
     "name": "stdout",
     "output_type": "stream",
     "text": [
      "Collecting qiskit\n",
      "  Downloading qiskit-1.2.4-cp38-abi3-macosx_11_0_arm64.whl.metadata (12 kB)\n",
      "Collecting qiskit-ibmq-provider\n",
      "  Downloading qiskit_ibmq_provider-0.20.2-py3-none-any.whl.metadata (14 kB)\n",
      "Collecting rustworkx>=0.15.0 (from qiskit)\n",
      "  Downloading rustworkx-0.15.1-cp38-abi3-macosx_11_0_arm64.whl.metadata (9.9 kB)\n",
      "Requirement already satisfied: numpy<3,>=1.17 in /Users/fibu/anaconda3/lib/python3.11/site-packages (from qiskit) (1.23.5)\n",
      "Requirement already satisfied: scipy>=1.5 in /Users/fibu/anaconda3/lib/python3.11/site-packages (from qiskit) (1.11.1)\n",
      "Requirement already satisfied: sympy>=1.3 in /Users/fibu/anaconda3/lib/python3.11/site-packages (from qiskit) (1.11.1)\n",
      "Requirement already satisfied: dill>=0.3 in /Users/fibu/anaconda3/lib/python3.11/site-packages (from qiskit) (0.3.6)\n",
      "Requirement already satisfied: python-dateutil>=2.8.0 in /Users/fibu/anaconda3/lib/python3.11/site-packages (from qiskit) (2.8.2)\n",
      "Requirement already satisfied: stevedore>=3.0.0 in /Users/fibu/anaconda3/lib/python3.11/site-packages (from qiskit) (5.1.0)\n",
      "Requirement already satisfied: typing-extensions in /Users/fibu/anaconda3/lib/python3.11/site-packages (from qiskit) (4.7.1)\n",
      "Requirement already satisfied: symengine<0.14,>=0.11 in /Users/fibu/anaconda3/lib/python3.11/site-packages (from qiskit) (0.11.0)\n",
      "Collecting qiskit-terra>=0.18.0 (from qiskit-ibmq-provider)\n",
      "  Downloading qiskit_terra-0.46.3-cp38-abi3-macosx_11_0_arm64.whl.metadata (13 kB)\n",
      "Requirement already satisfied: requests>=2.19 in /Users/fibu/anaconda3/lib/python3.11/site-packages (from qiskit-ibmq-provider) (2.31.0)\n",
      "Requirement already satisfied: requests-ntlm<=1.1.0 in /Users/fibu/anaconda3/lib/python3.11/site-packages (from qiskit-ibmq-provider) (1.1.0)\n",
      "Requirement already satisfied: urllib3>=1.21.1 in /Users/fibu/anaconda3/lib/python3.11/site-packages (from qiskit-ibmq-provider) (1.26.16)\n",
      "Requirement already satisfied: websocket-client>=1.5.1 in /Users/fibu/anaconda3/lib/python3.11/site-packages (from qiskit-ibmq-provider) (1.8.0)\n",
      "Requirement already satisfied: websockets>=10.0 in /Users/fibu/anaconda3/lib/python3.11/site-packages (from qiskit-ibmq-provider) (12.0)\n",
      "Requirement already satisfied: six>=1.5 in /Users/fibu/anaconda3/lib/python3.11/site-packages (from python-dateutil>=2.8.0->qiskit) (1.16.0)\n",
      "Requirement already satisfied: ply>=3.10 in /Users/fibu/anaconda3/lib/python3.11/site-packages (from qiskit-terra>=0.18.0->qiskit-ibmq-provider) (3.11)\n",
      "Requirement already satisfied: psutil>=5 in /Users/fibu/anaconda3/lib/python3.11/site-packages (from qiskit-terra>=0.18.0->qiskit-ibmq-provider) (5.9.0)\n",
      "Requirement already satisfied: charset-normalizer<4,>=2 in /Users/fibu/anaconda3/lib/python3.11/site-packages (from requests>=2.19->qiskit-ibmq-provider) (2.0.4)\n",
      "Requirement already satisfied: idna<4,>=2.5 in /Users/fibu/anaconda3/lib/python3.11/site-packages (from requests>=2.19->qiskit-ibmq-provider) (3.4)\n",
      "Requirement already satisfied: certifi>=2017.4.17 in /Users/fibu/anaconda3/lib/python3.11/site-packages (from requests>=2.19->qiskit-ibmq-provider) (2024.2.2)\n",
      "Requirement already satisfied: ntlm-auth>=1.0.2 in /Users/fibu/anaconda3/lib/python3.11/site-packages (from requests-ntlm<=1.1.0->qiskit-ibmq-provider) (1.5.0)\n",
      "Requirement already satisfied: cryptography>=1.3 in /Users/fibu/anaconda3/lib/python3.11/site-packages (from requests-ntlm<=1.1.0->qiskit-ibmq-provider) (41.0.3)\n",
      "Requirement already satisfied: pbr!=2.1.0,>=2.0.0 in /Users/fibu/anaconda3/lib/python3.11/site-packages (from stevedore>=3.0.0->qiskit) (6.0.0)\n",
      "Requirement already satisfied: mpmath>=0.19 in /Users/fibu/anaconda3/lib/python3.11/site-packages (from sympy>=1.3->qiskit) (1.3.0)\n",
      "Requirement already satisfied: cffi>=1.12 in /Users/fibu/anaconda3/lib/python3.11/site-packages (from cryptography>=1.3->requests-ntlm<=1.1.0->qiskit-ibmq-provider) (1.15.1)\n",
      "Requirement already satisfied: pycparser in /Users/fibu/anaconda3/lib/python3.11/site-packages (from cffi>=1.12->cryptography>=1.3->requests-ntlm<=1.1.0->qiskit-ibmq-provider) (2.21)\n",
      "Downloading qiskit-1.2.4-cp38-abi3-macosx_11_0_arm64.whl (4.5 MB)\n",
      "\u001b[2K   \u001b[90m━━━━━━━━━━━━━━━━━━━━━━━━━━━━━━━━━━━━━━━━\u001b[0m \u001b[32m4.5/4.5 MB\u001b[0m \u001b[31m20.3 MB/s\u001b[0m eta \u001b[36m0:00:00\u001b[0ma \u001b[36m0:00:01\u001b[0m\n",
      "\u001b[?25hDownloading qiskit_ibmq_provider-0.20.2-py3-none-any.whl (241 kB)\n",
      "Downloading qiskit_terra-0.46.3-cp38-abi3-macosx_11_0_arm64.whl (5.4 MB)\n",
      "\u001b[2K   \u001b[90m━━━━━━━━━━━━━━━━━━━━━━━━━━━━━━━━━━━━━━━━\u001b[0m \u001b[32m5.4/5.4 MB\u001b[0m \u001b[31m34.9 MB/s\u001b[0m eta \u001b[36m0:00:00\u001b[0m\n",
      "\u001b[?25hDownloading rustworkx-0.15.1-cp38-abi3-macosx_11_0_arm64.whl (1.7 MB)\n",
      "\u001b[2K   \u001b[90m━━━━━━━━━━━━━━━━━━━━━━━━━━━━━━━━━━━━━━━━\u001b[0m \u001b[32m1.7/1.7 MB\u001b[0m \u001b[31m39.6 MB/s\u001b[0m eta \u001b[36m0:00:00\u001b[0m\n",
      "\u001b[?25hInstalling collected packages: rustworkx, qiskit-terra, qiskit, qiskit-ibmq-provider\n",
      "  Attempting uninstall: rustworkx\n",
      "    Found existing installation: rustworkx 0.14.2\n",
      "    Uninstalling rustworkx-0.14.2:\n",
      "      Successfully uninstalled rustworkx-0.14.2\n",
      "Successfully installed qiskit-1.2.4 qiskit-ibmq-provider-0.20.2 qiskit-terra-0.46.3 rustworkx-0.15.1\n",
      "\n",
      "\u001b[1m[\u001b[0m\u001b[34;49mnotice\u001b[0m\u001b[1;39;49m]\u001b[0m\u001b[39;49m A new release of pip is available: \u001b[0m\u001b[31;49m24.2\u001b[0m\u001b[39;49m -> \u001b[0m\u001b[32;49m24.3.1\u001b[0m\n",
      "\u001b[1m[\u001b[0m\u001b[34;49mnotice\u001b[0m\u001b[1;39;49m]\u001b[0m\u001b[39;49m To update, run: \u001b[0m\u001b[32;49mpip install --upgrade pip\u001b[0m\n",
      "Note: you may need to restart the kernel to use updated packages.\n"
     ]
    }
   ],
   "source": [
    "pip install qiskit qiskit-ibmq-provider"
   ]
  },
  {
   "cell_type": "code",
   "execution_count": 1,
   "id": "ab0a2f0b-b7bc-43c9-9ef0-5a0311ba362c",
   "metadata": {},
   "outputs": [
    {
     "ename": "ImportError",
     "evalue": "cannot import name 'IBMQ' from 'qiskit' (/Users/fibu/anaconda3/envs/jupyterlab/lib/python3.12/site-packages/qiskit/__init__.py)",
     "output_type": "error",
     "traceback": [
      "\u001b[0;31m---------------------------------------------------------------------------\u001b[0m",
      "\u001b[0;31mImportError\u001b[0m                               Traceback (most recent call last)",
      "Cell \u001b[0;32mIn[1], line 2\u001b[0m\n\u001b[1;32m      1\u001b[0m \u001b[38;5;28;01mfrom\u001b[39;00m \u001b[38;5;21;01mqiskit\u001b[39;00m\u001b[38;5;21;01m.\u001b[39;00m\u001b[38;5;21;01mcircuit\u001b[39;00m \u001b[38;5;28;01mimport\u001b[39;00m QuantumRegister, ClassicalRegister\n\u001b[0;32m----> 2\u001b[0m \u001b[38;5;28;01mfrom\u001b[39;00m \u001b[38;5;21;01mqiskit\u001b[39;00m \u001b[38;5;28;01mimport\u001b[39;00m QuantumCircuit, IBMQ\n\u001b[1;32m      3\u001b[0m \u001b[38;5;28;01mfrom\u001b[39;00m \u001b[38;5;21;01mqiskit\u001b[39;00m\u001b[38;5;21;01m.\u001b[39;00m\u001b[38;5;21;01mtools\u001b[39;00m\u001b[38;5;21;01m.\u001b[39;00m\u001b[38;5;21;01mmonitor\u001b[39;00m \u001b[38;5;28;01mimport\u001b[39;00m job_monitor\n\u001b[1;32m      4\u001b[0m \u001b[38;5;28;01mfrom\u001b[39;00m \u001b[38;5;21;01mqiskit\u001b[39;00m \u001b[38;5;28;01mimport\u001b[39;00m execute\n",
      "\u001b[0;31mImportError\u001b[0m: cannot import name 'IBMQ' from 'qiskit' (/Users/fibu/anaconda3/envs/jupyterlab/lib/python3.12/site-packages/qiskit/__init__.py)"
     ]
    }
   ],
   "source": [
    "from qiskit.circuit import QuantumRegister, ClassicalRegister\n",
    "from qiskit import QuantumCircuit, IBMQ\n",
    "from qiskit.tools.monitor import job_monitor\n",
    "from qiskit import execute"
   ]
  },
  {
   "cell_type": "code",
   "execution_count": 1,
   "id": "36688916-7290-4e2d-944d-5c5e391c0ce9",
   "metadata": {
    "tags": []
   },
   "outputs": [
    {
     "ename": "ImportError",
     "evalue": "cannot import name 'QuantumRegister' from 'qiskit.circuit' (unknown location)",
     "output_type": "error",
     "traceback": [
      "\u001b[0;31m---------------------------------------------------------------------------\u001b[0m",
      "\u001b[0;31mImportError\u001b[0m                               Traceback (most recent call last)",
      "Cell \u001b[0;32mIn[1], line 1\u001b[0m\n\u001b[0;32m----> 1\u001b[0m \u001b[38;5;28;01mfrom\u001b[39;00m \u001b[38;5;21;01mqiskit\u001b[39;00m\u001b[38;5;21;01m.\u001b[39;00m\u001b[38;5;21;01mcircuit\u001b[39;00m \u001b[38;5;28;01mimport\u001b[39;00m QuantumRegister, ClassicalRegister\n\u001b[1;32m      2\u001b[0m \u001b[38;5;28;01mfrom\u001b[39;00m \u001b[38;5;21;01mqiskit\u001b[39;00m \u001b[38;5;28;01mimport\u001b[39;00m QuantumCircuit, IBMQ\n\u001b[1;32m      3\u001b[0m \u001b[38;5;28;01mfrom\u001b[39;00m \u001b[38;5;21;01mqiskit\u001b[39;00m\u001b[38;5;21;01m.\u001b[39;00m\u001b[38;5;21;01mtools\u001b[39;00m\u001b[38;5;21;01m.\u001b[39;00m\u001b[38;5;21;01mmonitor\u001b[39;00m \u001b[38;5;28;01mimport\u001b[39;00m job_monitor\n",
      "\u001b[0;31mImportError\u001b[0m: cannot import name 'QuantumRegister' from 'qiskit.circuit' (unknown location)"
     ]
    }
   ],
   "source": [
    "IBMQ.save_account('dbd98c0ff59222395dce4add827970de3827fbfd774e0c95a644ab406c02db6bc97bd7a81bd73a9140b9727a1c0bc4d9c048611892525cb82c1f607b986683ba')\n",
    "IBMQ.load_account()\n",
    "\n",
    "provider = IBMQ.get_provider(hub='ibm-q')\n",
    "\n",
    "backend = provider.get_backend('ibmq_qasm_simulator')\n",
    "\n",
    "q = QuantumRegister(3, 'q')\n",
    "c = ClassicalRegister(1, 'c')\n",
    "\n",
    "circuit= QuantumCircuit(q, c)\n",
    "\n",
    "circuit.cx(q[0], q[1])\n",
    "circuit.cx(q[0], q[2])\n",
    "circuit.x(q[0])\n",
    "circuit.cx(q[0], q[1])\n",
    "circuit.cx(q[0], q[2])\n",
    "circuit.ccx(q[2], q[1], q[0])\n",
    "circuit.measure(q[0], c[0])\n",
    "\n",
    "job = execute(circuit, backend, shots=1000)\n",
    "\n",
    "job_monitor(job)\n",
    "counts = job.result().get_counts()\n",
    "\n",
    "print(\"\\nBit flip code with error\")\n",
    "print()\n",
    "print(counts)"
   ]
  },
  {
   "cell_type": "code",
   "execution_count": null,
   "id": "c5e91cfe-97f1-4a7c-8e55-86ba3703224d",
   "metadata": {},
   "outputs": [],
   "source": []
  }
 ],
 "metadata": {
  "kernelspec": {
   "display_name": "Python 3 (ipykernel)",
   "language": "python",
   "name": "python3"
  },
  "language_info": {
   "codemirror_mode": {
    "name": "ipython",
    "version": 3
   },
   "file_extension": ".py",
   "mimetype": "text/x-python",
   "name": "python",
   "nbconvert_exporter": "python",
   "pygments_lexer": "ipython3",
   "version": "3.12.7"
  }
 },
 "nbformat": 4,
 "nbformat_minor": 5
}
