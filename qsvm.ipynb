{
 "cells": [
  {
   "cell_type": "code",
   "execution_count": 33,
   "id": "f4047b7c-459e-43fc-b5e4-97de7919865d",
   "metadata": {},
   "outputs": [],
   "source": [
    "import pandas as pd\n",
    "import numpy as np\n",
    "import matplotlib.pyplot as plt\n",
    "import seaborn as sns"
   ]
  },
  {
   "cell_type": "code",
   "execution_count": 74,
   "id": "3f7462d0-1e1d-43c9-a82c-5720bf3a80c4",
   "metadata": {},
   "outputs": [],
   "source": [
    "# Data\n",
    "from ucimlrepo import fetch_ucirepo\n",
    "# Quantum\n",
    "from qiskit.circuit.library import ZZFeatureMap\n",
    "from qiskit_aer import AerSimulator\n",
    "from qiskit_machine_learning.algorithms import QSVC\n",
    "from qiskit_machine_learning.algorithms import PegasosQSVC\n",
    "from qiskit_algorithms.optimizers import SPSA\n",
    "from qiskit.primitives import Sampler\n",
    "from qiskit_machine_learning.state_fidelities import ComputeUncompute\n",
    "from qiskit_machine_learning.kernels import FidelityQuantumKernel\n",
    "from qiskit import QuantumCircuit\n",
    "from qiskit.circuit.library import BlueprintCircuit\n",
    "\n",
    "# Sklearn\n",
    "from sklearn.model_selection import train_test_split\n",
    "from sklearn.preprocessing import StandardScaler\n",
    "from sklearn.impute import SimpleImputer\n",
    "from sklearn.metrics import classification_report\n",
    "from sklearn.model_selection import train_test_split"
   ]
  },
  {
   "cell_type": "code",
   "execution_count": 57,
   "id": "d3e4d36d-9a2d-4e57-af22-f3c142ddf241",
   "metadata": {},
   "outputs": [],
   "source": [
    "wine = fetch_ucirepo(id=109)"
   ]
  },
  {
   "cell_type": "code",
   "execution_count": 69,
   "id": "f831136d-8272-4bf5-9709-9f509119dd73",
   "metadata": {},
   "outputs": [
    {
     "name": "stdout",
     "output_type": "stream",
     "text": [
      "<class 'pandas.core.frame.DataFrame'>\n"
     ]
    }
   ],
   "source": [
    "X = pd.DataFrame(wine.data.targets)\n",
    "y = pd.DataFrame(wine.data.features)\n",
    "print(type(X))"
   ]
  },
  {
   "cell_type": "code",
   "execution_count": 70,
   "id": "5c6edbc7-ff82-4d3a-b787-57e9284eac82",
   "metadata": {},
   "outputs": [
    {
     "name": "stdout",
     "output_type": "stream",
     "text": [
      "   ┌───────┐┌───────┐┌───────┐┌───────┐┌───────┐┌───────┐┌───────┐┌───────┐»\n",
      "q: ┤ Ry(π) ├┤ Ry(π) ├┤ Ry(π) ├┤ Ry(π) ├┤ Ry(π) ├┤ Ry(π) ├┤ Ry(π) ├┤ Ry(π) ├»\n",
      "   └───────┘└───────┘└───────┘└───────┘└───────┘└───────┘└───────┘└───────┘»\n",
      "«   ┌───────┐┌───────┐┌───────┐┌───────┐┌───────┐┌───────┐┌───────┐┌───────┐»\n",
      "«q: ┤ Ry(π) ├┤ Ry(π) ├┤ Ry(π) ├┤ Ry(π) ├┤ Ry(π) ├┤ Ry(π) ├┤ Ry(π) ├┤ Ry(π) ├»\n",
      "«   └───────┘└───────┘└───────┘└───────┘└───────┘└───────┘└───────┘└───────┘»\n",
      "«   ┌───────┐┌───────┐┌───────┐┌───────┐┌───────┐┌───────┐┌───────┐┌───────┐»\n",
      "«q: ┤ Ry(π) ├┤ Ry(π) ├┤ Ry(π) ├┤ Ry(π) ├┤ Ry(π) ├┤ Ry(π) ├┤ Ry(π) ├┤ Ry(π) ├»\n",
      "«   └───────┘└───────┘└───────┘└───────┘└───────┘└───────┘└───────┘└───────┘»\n",
      "«   ┌───────┐┌───────┐┌───────┐┌───────┐┌───────┐┌───────┐┌───────┐┌───────┐»\n",
      "«q: ┤ Ry(π) ├┤ Ry(π) ├┤ Ry(π) ├┤ Ry(π) ├┤ Ry(π) ├┤ Ry(π) ├┤ Ry(π) ├┤ Ry(π) ├»\n",
      "«   └───────┘└───────┘└───────┘└───────┘└───────┘└───────┘└───────┘└───────┘»\n",
      "«   ┌───────┐┌───────┐┌───────┐┌───────┐┌───────┐┌───────┐┌───────┐┌───────┐»\n",
      "«q: ┤ Ry(π) ├┤ Ry(π) ├┤ Ry(π) ├┤ Ry(π) ├┤ Ry(π) ├┤ Ry(π) ├┤ Ry(π) ├┤ Ry(π) ├»\n",
      "«   └───────┘└───────┘└───────┘└───────┘└───────┘└───────┘└───────┘└───────┘»\n",
      "«   ┌───────┐┌───────┐┌───────┐┌───────┐┌───────┐┌───────┐┌───────┐┌───────┐»\n",
      "«q: ┤ Ry(π) ├┤ Ry(π) ├┤ Ry(π) ├┤ Ry(π) ├┤ Ry(π) ├┤ Ry(π) ├┤ Ry(π) ├┤ Ry(π) ├»\n",
      "«   └───────┘└───────┘└───────┘└───────┘└───────┘└───────┘└───────┘└───────┘»\n",
      "«   ┌───────┐┌───────┐┌───────┐┌───────┐┌───────┐┌───────┐┌───────┐┌───────┐»\n",
      "«q: ┤ Ry(π) ├┤ Ry(π) ├┤ Ry(π) ├┤ Ry(π) ├┤ Ry(π) ├┤ Ry(π) ├┤ Ry(π) ├┤ Ry(π) ├»\n",
      "«   └───────┘└───────┘└───────┘└───────┘└───────┘└───────┘└───────┘└───────┘»\n",
      "«   ┌───────┐┌───────┐┌───────┐┌────────┐┌────────┐┌────────┐┌────────┐»\n",
      "«q: ┤ Ry(π) ├┤ Ry(π) ├┤ Ry(π) ├┤ Ry(2π) ├┤ Ry(2π) ├┤ Ry(2π) ├┤ Ry(2π) ├»\n",
      "«   └───────┘└───────┘└───────┘└────────┘└────────┘└────────┘└────────┘»\n",
      "«   ┌────────┐┌────────┐┌────────┐┌────────┐┌────────┐┌────────┐┌────────┐»\n",
      "«q: ┤ Ry(2π) ├┤ Ry(2π) ├┤ Ry(2π) ├┤ Ry(2π) ├┤ Ry(2π) ├┤ Ry(2π) ├┤ Ry(2π) ├»\n",
      "«   └────────┘└────────┘└────────┘└────────┘└────────┘└────────┘└────────┘»\n",
      "«   ┌────────┐┌────────┐┌────────┐┌────────┐┌────────┐┌────────┐┌────────┐»\n",
      "«q: ┤ Ry(2π) ├┤ Ry(2π) ├┤ Ry(2π) ├┤ Ry(2π) ├┤ Ry(2π) ├┤ Ry(2π) ├┤ Ry(2π) ├»\n",
      "«   └────────┘└────────┘└────────┘└────────┘└────────┘└────────┘└────────┘»\n",
      "«   ┌────────┐┌────────┐┌────────┐┌────────┐┌────────┐┌────────┐┌────────┐»\n",
      "«q: ┤ Ry(2π) ├┤ Ry(2π) ├┤ Ry(2π) ├┤ Ry(2π) ├┤ Ry(2π) ├┤ Ry(2π) ├┤ Ry(2π) ├»\n",
      "«   └────────┘└────────┘└────────┘└────────┘└────────┘└────────┘└────────┘»\n",
      "«   ┌────────┐┌────────┐┌────────┐┌────────┐┌────────┐┌────────┐┌────────┐»\n",
      "«q: ┤ Ry(2π) ├┤ Ry(2π) ├┤ Ry(2π) ├┤ Ry(2π) ├┤ Ry(2π) ├┤ Ry(2π) ├┤ Ry(2π) ├»\n",
      "«   └────────┘└────────┘└────────┘└────────┘└────────┘└────────┘└────────┘»\n",
      "«   ┌────────┐┌────────┐┌────────┐┌────────┐┌────────┐┌────────┐┌────────┐»\n",
      "«q: ┤ Ry(2π) ├┤ Ry(2π) ├┤ Ry(2π) ├┤ Ry(2π) ├┤ Ry(2π) ├┤ Ry(2π) ├┤ Ry(2π) ├»\n",
      "«   └────────┘└────────┘└────────┘└────────┘└────────┘└────────┘└────────┘»\n",
      "«   ┌────────┐┌────────┐┌────────┐┌────────┐┌────────┐┌────────┐┌────────┐»\n",
      "«q: ┤ Ry(2π) ├┤ Ry(2π) ├┤ Ry(2π) ├┤ Ry(2π) ├┤ Ry(2π) ├┤ Ry(2π) ├┤ Ry(2π) ├»\n",
      "«   └────────┘└────────┘└────────┘└────────┘└────────┘└────────┘└────────┘»\n",
      "«   ┌────────┐┌────────┐┌────────┐┌────────┐┌────────┐┌────────┐┌────────┐»\n",
      "«q: ┤ Ry(2π) ├┤ Ry(2π) ├┤ Ry(2π) ├┤ Ry(2π) ├┤ Ry(2π) ├┤ Ry(2π) ├┤ Ry(2π) ├»\n",
      "«   └────────┘└────────┘└────────┘└────────┘└────────┘└────────┘└────────┘»\n",
      "«   ┌────────┐┌────────┐┌────────┐┌────────┐┌────────┐┌────────┐┌────────┐»\n",
      "«q: ┤ Ry(2π) ├┤ Ry(2π) ├┤ Ry(2π) ├┤ Ry(2π) ├┤ Ry(2π) ├┤ Ry(2π) ├┤ Ry(2π) ├»\n",
      "«   └────────┘└────────┘└────────┘└────────┘└────────┘└────────┘└────────┘»\n",
      "«   ┌────────┐┌────────┐┌────────┐┌────────┐┌────────┐┌────────┐┌────────┐»\n",
      "«q: ┤ Ry(2π) ├┤ Ry(2π) ├┤ Ry(2π) ├┤ Ry(2π) ├┤ Ry(2π) ├┤ Ry(2π) ├┤ Ry(2π) ├»\n",
      "«   └────────┘└────────┘└────────┘└────────┘└────────┘└────────┘└────────┘»\n",
      "«   ┌────────┐┌────────┐┌────────┐┌────────┐┌────────┐┌────────┐┌────────┐»\n",
      "«q: ┤ Ry(2π) ├┤ Ry(2π) ├┤ Ry(2π) ├┤ Ry(2π) ├┤ Ry(3π) ├┤ Ry(3π) ├┤ Ry(3π) ├»\n",
      "«   └────────┘└────────┘└────────┘└────────┘└────────┘└────────┘└────────┘»\n",
      "«   ┌────────┐┌────────┐┌────────┐┌────────┐┌────────┐┌────────┐┌────────┐»\n",
      "«q: ┤ Ry(3π) ├┤ Ry(3π) ├┤ Ry(3π) ├┤ Ry(3π) ├┤ Ry(3π) ├┤ Ry(3π) ├┤ Ry(3π) ├»\n",
      "«   └────────┘└────────┘└────────┘└────────┘└────────┘└────────┘└────────┘»\n",
      "«   ┌────────┐┌────────┐┌────────┐┌────────┐┌────────┐┌────────┐┌────────┐»\n",
      "«q: ┤ Ry(3π) ├┤ Ry(3π) ├┤ Ry(3π) ├┤ Ry(3π) ├┤ Ry(3π) ├┤ Ry(3π) ├┤ Ry(3π) ├»\n",
      "«   └────────┘└────────┘└────────┘└────────┘└────────┘└────────┘└────────┘»\n",
      "«   ┌────────┐┌────────┐┌────────┐┌────────┐┌────────┐┌────────┐┌────────┐»\n",
      "«q: ┤ Ry(3π) ├┤ Ry(3π) ├┤ Ry(3π) ├┤ Ry(3π) ├┤ Ry(3π) ├┤ Ry(3π) ├┤ Ry(3π) ├»\n",
      "«   └────────┘└────────┘└────────┘└────────┘└────────┘└────────┘└────────┘»\n",
      "«   ┌────────┐┌────────┐┌────────┐┌────────┐┌────────┐┌────────┐┌────────┐»\n",
      "«q: ┤ Ry(3π) ├┤ Ry(3π) ├┤ Ry(3π) ├┤ Ry(3π) ├┤ Ry(3π) ├┤ Ry(3π) ├┤ Ry(3π) ├»\n",
      "«   └────────┘└────────┘└────────┘└────────┘└────────┘└────────┘└────────┘»\n",
      "«   ┌────────┐┌────────┐┌────────┐┌────────┐┌────────┐┌────────┐┌────────┐»\n",
      "«q: ┤ Ry(3π) ├┤ Ry(3π) ├┤ Ry(3π) ├┤ Ry(3π) ├┤ Ry(3π) ├┤ Ry(3π) ├┤ Ry(3π) ├»\n",
      "«   └────────┘└────────┘└────────┘└────────┘└────────┘└────────┘└────────┘»\n",
      "«   ┌────────┐┌────────┐┌────────┐┌────────┐┌────────┐┌────────┐┌────────┐»\n",
      "«q: ┤ Ry(3π) ├┤ Ry(3π) ├┤ Ry(3π) ├┤ Ry(3π) ├┤ Ry(3π) ├┤ Ry(3π) ├┤ Ry(3π) ├»\n",
      "«   └────────┘└────────┘└────────┘└────────┘└────────┘└────────┘└────────┘»\n",
      "«   ┌────────┐┌────────┐┌────────┐\n",
      "«q: ┤ Ry(3π) ├┤ Ry(3π) ├┤ Ry(3π) ├\n",
      "«   └────────┘└────────┘└────────┘\n"
     ]
    }
   ],
   "source": [
    "X_array = X.to_numpy()\n",
    "n_qubits = X_array.shape[1]\n",
    "qc = QuantumCircuit(n_qubits)\n",
    "for row in X_array:\n",
    "    for i, feature in enumerate(row):\n",
    "        qc.ry(feature * np.pi, i)\n",
    "\n",
    "print(qc)"
   ]
  },
  {
   "cell_type": "markdown",
   "id": "6d5b0c6a-4cef-4f7a-b043-c352b862bda1",
   "metadata": {},
   "source": [
    "# Pre-Processing of data"
   ]
  },
  {
   "cell_type": "code",
   "execution_count": 75,
   "id": "d5ebf93c-c9a5-4762-8ac8-4341ac0f869d",
   "metadata": {},
   "outputs": [
    {
     "data": {
      "text/plain": [
       "((142, 1), (36, 1))"
      ]
     },
     "execution_count": 75,
     "metadata": {},
     "output_type": "execute_result"
    }
   ],
   "source": [
    "# Separating features for both datasets\n",
    "X_train, X_test, y_train, y_test = train_test_split(X, y, test_size = 0.2, random_state = 0)\n",
    "X_train.shape, X_test.shape"
   ]
  },
  {
   "cell_type": "code",
   "execution_count": 79,
   "id": "0a7c3f12-e2f0-4bdf-9621-2dfc55907711",
   "metadata": {},
   "outputs": [
    {
     "ename": "TypeError",
     "evalue": "Can't instantiate abstract class CustomFeatureMap without an implementation for abstract methods '_build', '_check_configuration'",
     "output_type": "error",
     "traceback": [
      "\u001b[0;31m---------------------------------------------------------------------------\u001b[0m",
      "\u001b[0;31mTypeError\u001b[0m                                 Traceback (most recent call last)",
      "Cell \u001b[0;32mIn[79], line 23\u001b[0m\n\u001b[1;32m     20\u001b[0m             qc\u001b[38;5;241m.\u001b[39mry(\u001b[38;5;28mself\u001b[39m\u001b[38;5;241m.\u001b[39mparameters[i], i)\n\u001b[1;32m     21\u001b[0m         \u001b[38;5;28mself\u001b[39m\u001b[38;5;241m.\u001b[39mcompose(qc, inplace\u001b[38;5;241m=\u001b[39m\u001b[38;5;28;01mTrue\u001b[39;00m)\n\u001b[0;32m---> 23\u001b[0m custom_feature_map \u001b[38;5;241m=\u001b[39m CustomFeatureMap(feature_dimension \u001b[38;5;241m=\u001b[39m X_train\u001b[38;5;241m.\u001b[39mshape[\u001b[38;5;241m1\u001b[39m])\n\u001b[1;32m     25\u001b[0m sampler \u001b[38;5;241m=\u001b[39m Sampler()\n\u001b[1;32m     27\u001b[0m \u001b[38;5;66;03m# Subroutine that leverages the Sampler primitive\u001b[39;00m\n",
      "\u001b[0;31mTypeError\u001b[0m: Can't instantiate abstract class CustomFeatureMap without an implementation for abstract methods '_build', '_check_configuration'"
     ]
    }
   ],
   "source": [
    "scaler = StandardScaler()\n",
    "# Scale the features\n",
    "# Using the same scaler to avoid data leakage\n",
    "X_train = scaler.fit_transform(X_train)\n",
    "X_test = scaler.transform(X_test)\n",
    "\n",
    "# Custom Feature Map\n",
    "class CustomFeatureMap(BlueprintCircuit):\n",
    "    def __init__(self, feature_dimension):\n",
    "        super().__init__()\n",
    "        self.feature_dimension = feature_dimension\n",
    "        self.num_qubits = feature_dimension\n",
    "        self.parameters = [f\"theta_{i}\" for i in range(feature_dimension)]\n",
    "        self._num_parameters = feature_dimension\n",
    "        self.build()\n",
    "\n",
    "    def build(self):\n",
    "        qc = QuantumCircuit(self.feature_dimension)\n",
    "        for i in range(self.feature_dimension):\n",
    "            qc.ry(self.parameters[i], i)\n",
    "        self.compose(qc, inplace=True)\n",
    "\n",
    "custom_feature_map = CustomFeatureMap(feature_dimension = X_train.shape[1])\n",
    "\n",
    "sampler = Sampler()\n",
    "\n",
    "# Subroutine that leverages the Sampler primitive\n",
    "fidelity = ComputeUncompute(sampler=sampler)\n",
    "\n",
    "kernel = FidelityQuantumKernel(fidelity=fidelity, feature_map=custom_feature_map) \n",
    "\n",
    "qsvc = QSVC(quantum_kernel=kernel, max_iter=100)\n",
    "\n",
    "quantum_instance = AerSimulator(method='statevector', shots = 1024)\n",
    "\n",
    "print(\"Training QSVM...\")\n",
    "qsvc.fit(X_train, y_train)\n",
    "\n",
    "qsvc_score = qsvc.score(X_test, y_test)\n",
    "print(\"QSVC Score:\", qsvc_score)\n",
    "\n",
    "y_pred = qsvc.predict(X_test)\n",
    "\n",
    "print(\"\\nClassification Report:\")\n",
    "print(classification_report(y_test, y_pred))"
   ]
  },
  {
   "cell_type": "code",
   "execution_count": null,
   "id": "d896f128-f382-4759-acdf-122eed7b0b09",
   "metadata": {},
   "outputs": [],
   "source": []
  },
  {
   "cell_type": "markdown",
   "id": "94210dcf-5892-4186-8a35-64bfb59d7385",
   "metadata": {},
   "source": [
    "# Quantum Support Vector Machine"
   ]
  },
  {
   "cell_type": "code",
   "execution_count": 24,
   "id": "5f6667f2-2d8c-4b3d-aeb3-ad5050615245",
   "metadata": {},
   "outputs": [
    {
     "name": "stderr",
     "output_type": "stream",
     "text": [
      "/var/folders/pf/wyb5vhpd027g120tcw057sb80000gn/T/ipykernel_68661/1023482254.py:7: DeprecationWarning: The class ``qiskit.primitives.sampler.Sampler`` is deprecated as of qiskit 1.2. It will be removed no earlier than 3 months after the release date. All implementations of the `BaseSamplerV1` interface have been deprecated in favor of their V2 counterparts. The V2 alternative for the `Sampler` class is `StatevectorSampler`.\n",
      "  sampler = Sampler()\n",
      "/var/folders/pf/wyb5vhpd027g120tcw057sb80000gn/T/ipykernel_68661/1023482254.py:10: DeprecationWarning: V1 Primitives are deprecated as of qiskit-machine-learning 0.8.0 and will be removed no sooner than 4 months after the release date. Use V2 primitives for continued compatibility and support.\n",
      "  fidelity = ComputeUncompute(sampler=sampler)\n",
      "/Users/fibu/anaconda3/envs/jupyterlab/lib/python3.12/site-packages/sklearn/svm/_base.py:737: DataConversionWarning: A column-vector y was passed when a 1d array was expected. Please change the shape of y to (n_samples, ), for example using ravel().\n",
      "  y_ = column_or_1d(y, warn=True)\n"
     ]
    },
    {
     "name": "stdout",
     "output_type": "stream",
     "text": [
      "Training QSVM...\n"
     ]
    },
    {
     "name": "stderr",
     "output_type": "stream",
     "text": [
      "/Users/fibu/anaconda3/envs/jupyterlab/lib/python3.12/site-packages/sklearn/svm/_base.py:297: ConvergenceWarning: Solver terminated early (max_iter=100).  Consider pre-processing your data with StandardScaler or MinMaxScaler.\n",
      "  warnings.warn(\n"
     ]
    },
    {
     "name": "stdout",
     "output_type": "stream",
     "text": [
      "QSVC Score: 0.4444444444444444\n",
      "\n",
      "Classification Report:\n",
      "              precision    recall  f1-score   support\n",
      "\n",
      "           1       0.00      0.00      0.00        14\n",
      "           2       0.44      1.00      0.62        16\n",
      "           3       0.00      0.00      0.00         6\n",
      "\n",
      "    accuracy                           0.44        36\n",
      "   macro avg       0.15      0.33      0.21        36\n",
      "weighted avg       0.20      0.44      0.27        36\n",
      "\n"
     ]
    },
    {
     "name": "stderr",
     "output_type": "stream",
     "text": [
      "/Users/fibu/anaconda3/envs/jupyterlab/lib/python3.12/site-packages/sklearn/metrics/_classification.py:1531: UndefinedMetricWarning: Precision is ill-defined and being set to 0.0 in labels with no predicted samples. Use `zero_division` parameter to control this behavior.\n",
      "  _warn_prf(average, modifier, f\"{metric.capitalize()} is\", len(result))\n",
      "/Users/fibu/anaconda3/envs/jupyterlab/lib/python3.12/site-packages/sklearn/metrics/_classification.py:1531: UndefinedMetricWarning: Precision is ill-defined and being set to 0.0 in labels with no predicted samples. Use `zero_division` parameter to control this behavior.\n",
      "  _warn_prf(average, modifier, f\"{metric.capitalize()} is\", len(result))\n",
      "/Users/fibu/anaconda3/envs/jupyterlab/lib/python3.12/site-packages/sklearn/metrics/_classification.py:1531: UndefinedMetricWarning: Precision is ill-defined and being set to 0.0 in labels with no predicted samples. Use `zero_division` parameter to control this behavior.\n",
      "  _warn_prf(average, modifier, f\"{metric.capitalize()} is\", len(result))\n"
     ]
    }
   ],
   "source": [
    "feature_map = ZZFeatureMap(\n",
    "    feature_dimension = X_train.shape[1],\n",
    "    reps = 2,\n",
    "    entanglement = 'linear'\n",
    ")\n",
    "\n",
    "sampler = Sampler()\n",
    "\n",
    "# Subroutine that leverages the Sampler primitive\n",
    "fidelity = ComputeUncompute(sampler=sampler)\n",
    "\n",
    "kernel = FidelityQuantumKernel(fidelity=fidelity, feature_map=feature_map) \n",
    "\n",
    "# Selecting a simulating method\n",
    "quantum_instance = AerSimulator(method='statevector', shots = 1024)\n",
    "\n",
    "qsvc = QSVC(quantum_kernel=kernel, max_iter=100)\n",
    "\n",
    "print(\"Training QSVM...\")\n",
    "qsvc.fit(X_train, y_train)\n",
    "\n",
    "qsvc_score = qsvc.score(X_test, y_test)\n",
    "print(\"QSVC Score:\", qsvc_score)\n",
    "\n",
    "y_pred = qsvc.predict(X_test)\n",
    "\n",
    "print(\"\\nClassification Report:\")\n",
    "print(classification_report(y_test, y_pred))"
   ]
  },
  {
   "cell_type": "markdown",
   "id": "7c4222de-4d84-4b22-863d-5f0bc460bdd6",
   "metadata": {},
   "source": [
    "# Pegasos Quantum Support Vector Machine"
   ]
  },
  {
   "cell_type": "code",
   "execution_count": 38,
   "id": "5f66ed1b-04a7-41af-b81f-6f9f3c6e04eb",
   "metadata": {},
   "outputs": [
    {
     "data": {
      "text/plain": [
       "(142, 1)"
      ]
     },
     "execution_count": 38,
     "metadata": {},
     "output_type": "execute_result"
    }
   ],
   "source": [
    "y_train.shape"
   ]
  },
  {
   "cell_type": "code",
   "execution_count": 39,
   "id": "3fca28cb-5b58-4359-a311-712ddedeefd5",
   "metadata": {},
   "outputs": [
    {
     "ename": "ValueError",
     "evalue": "y has to be a 1D array",
     "output_type": "error",
     "traceback": [
      "\u001b[0;31m---------------------------------------------------------------------------\u001b[0m",
      "\u001b[0;31mValueError\u001b[0m                                Traceback (most recent call last)",
      "Cell \u001b[0;32mIn[39], line 17\u001b[0m\n\u001b[1;32m     14\u001b[0m pegasos_qsvc \u001b[38;5;241m=\u001b[39m PegasosQSVC(quantum_kernel \u001b[38;5;241m=\u001b[39m qkernel, C\u001b[38;5;241m=\u001b[39mC, num_steps\u001b[38;5;241m=\u001b[39mtau)\n\u001b[1;32m     16\u001b[0m \u001b[38;5;66;03m# Train the model\u001b[39;00m\n\u001b[0;32m---> 17\u001b[0m pegasos_qsvc\u001b[38;5;241m.\u001b[39mfit(X_train, y_train)\n\u001b[1;32m     19\u001b[0m pegasos_score \u001b[38;5;241m=\u001b[39m pegasos_qsvc\u001b[38;5;241m.\u001b[39mscore(X_test, y_test)\n\u001b[1;32m     21\u001b[0m \u001b[38;5;28mprint\u001b[39m(\u001b[38;5;124mf\u001b[39m\u001b[38;5;124m\"\u001b[39m\u001b[38;5;124mPegasosQSVC classification test score \u001b[39m\u001b[38;5;132;01m{\u001b[39;00mpegasos_score\u001b[38;5;132;01m}\u001b[39;00m\u001b[38;5;124m\"\u001b[39m)\n",
      "File \u001b[0;32m~/anaconda3/envs/jupyterlab/lib/python3.12/site-packages/qiskit_machine_learning/algorithms/classifiers/pegasos_qsvc.py:159\u001b[0m, in \u001b[0;36mPegasosQSVC.fit\u001b[0;34m(self, X, y, sample_weight)\u001b[0m\n\u001b[1;32m    157\u001b[0m     \u001b[38;5;28;01mraise\u001b[39;00m \u001b[38;5;167;01mValueError\u001b[39;00m(\u001b[38;5;124m\"\u001b[39m\u001b[38;5;124mX has to be a 2D array\u001b[39m\u001b[38;5;124m\"\u001b[39m)\n\u001b[1;32m    158\u001b[0m \u001b[38;5;28;01mif\u001b[39;00m np\u001b[38;5;241m.\u001b[39mndim(y) \u001b[38;5;241m!=\u001b[39m \u001b[38;5;241m1\u001b[39m:\n\u001b[0;32m--> 159\u001b[0m     \u001b[38;5;28;01mraise\u001b[39;00m \u001b[38;5;167;01mValueError\u001b[39;00m(\u001b[38;5;124m\"\u001b[39m\u001b[38;5;124my has to be a 1D array\u001b[39m\u001b[38;5;124m\"\u001b[39m)\n\u001b[1;32m    160\u001b[0m \u001b[38;5;28;01mif\u001b[39;00m \u001b[38;5;28mlen\u001b[39m(np\u001b[38;5;241m.\u001b[39munique(y)) \u001b[38;5;241m!=\u001b[39m \u001b[38;5;241m2\u001b[39m:\n\u001b[1;32m    161\u001b[0m     \u001b[38;5;28;01mraise\u001b[39;00m \u001b[38;5;167;01mValueError\u001b[39;00m(\u001b[38;5;124m\"\u001b[39m\u001b[38;5;124mOnly binary classification is supported\u001b[39m\u001b[38;5;124m\"\u001b[39m)\n",
      "\u001b[0;31mValueError\u001b[0m: y has to be a 1D array"
     ]
    }
   ],
   "source": [
    "# Number of qubits is equal to the number of features\n",
    "num_qubits = 2\n",
    "\n",
    "# Number of steps to perform during training\n",
    "tau = 100\n",
    "\n",
    "# Regularization parameter\n",
    "C = 1000\n",
    "\n",
    "feature_map = ZZFeatureMap(feature_dimension=num_qubits, reps=1)\n",
    "\n",
    "qkernel = FidelityQuantumKernel(feature_map=feature_map)\n",
    "\n",
    "pegasos_qsvc = PegasosQSVC(quantum_kernel = qkernel, C=C, num_steps=tau)\n",
    "\n",
    "# Train the model\n",
    "pegasos_qsvc.fit(X_train, y_train)\n",
    "\n",
    "pegasos_score = pegasos_qsvc.score(X_test, y_test)\n",
    "\n",
    "print(f\"PegasosQSVC classification test score {pegasos_score}\")"
   ]
  },
  {
   "cell_type": "code",
   "execution_count": null,
   "id": "99905f65-5a24-4d8e-830d-f8198dfb5d35",
   "metadata": {},
   "outputs": [],
   "source": []
  }
 ],
 "metadata": {
  "kernelspec": {
   "display_name": "Python 3 (ipykernel)",
   "language": "python",
   "name": "python3"
  },
  "language_info": {
   "codemirror_mode": {
    "name": "ipython",
    "version": 3
   },
   "file_extension": ".py",
   "mimetype": "text/x-python",
   "name": "python",
   "nbconvert_exporter": "python",
   "pygments_lexer": "ipython3",
   "version": "3.12.7"
  }
 },
 "nbformat": 4,
 "nbformat_minor": 5
}
