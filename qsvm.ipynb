{
 "cells": [
  {
   "cell_type": "code",
   "execution_count": 19,
   "id": "f4047b7c-459e-43fc-b5e4-97de7919865d",
   "metadata": {},
   "outputs": [],
   "source": [
    "import pandas as pd\n",
    "import numpy as np\n",
    "import matplotlib.pyplot as plt\n",
    "import seaborn as sns"
   ]
  },
  {
   "cell_type": "code",
   "execution_count": 41,
   "id": "3f7462d0-1e1d-43c9-a82c-5720bf3a80c4",
   "metadata": {},
   "outputs": [],
   "source": [
    "# Data\n",
    "from ucimlrepo import fetch_ucirepo\n",
    "\n",
    "# Quantum\n",
    "from qiskit.circuit.library import ZZFeatureMap, ZFeatureMap\n",
    "from qiskit_aer import AerSimulator\n",
    "from qiskit_machine_learning.algorithms import QSVC\n",
    "from qiskit_machine_learning.algorithms import PegasosQSVC\n",
    "from qiskit_algorithms.optimizers import SPSA\n",
    "from qiskit.primitives import Sampler\n",
    "from qiskit_machine_learning.state_fidelities import ComputeUncompute\n",
    "from qiskit_machine_learning.kernels import FidelityQuantumKernel\n",
    "from qiskit import QuantumCircuit\n",
    "from qiskit.circuit.library import BlueprintCircuit\n",
    "\n",
    "# Sklearn\n",
    "from sklearn.model_selection import train_test_split\n",
    "from sklearn.preprocessing import StandardScaler\n",
    "from sklearn.impute import SimpleImputer\n",
    "from sklearn.metrics import classification_report\n",
    "from sklearn.model_selection import train_test_split\n",
    "from sklearn.preprocessing import MinMaxScaler\n",
    "from sklearn.metrics import accuracy_score"
   ]
  },
  {
   "cell_type": "code",
   "execution_count": 21,
   "id": "d3e4d36d-9a2d-4e57-af22-f3c142ddf241",
   "metadata": {},
   "outputs": [],
   "source": [
    "wine = fetch_ucirepo(id=109)"
   ]
  },
  {
   "cell_type": "code",
   "execution_count": 32,
   "id": "f831136d-8272-4bf5-9709-9f509119dd73",
   "metadata": {},
   "outputs": [],
   "source": [
    "X = wine.data.features\n",
    "y = wine.data.targets"
   ]
  },
  {
   "cell_type": "markdown",
   "id": "66e3e37a-ff7a-45d5-9ac9-4124b187f232",
   "metadata": {},
   "source": [
    "## Angle Encoding"
   ]
  },
  {
   "cell_type": "code",
   "execution_count": 70,
   "id": "5c6edbc7-ff82-4d3a-b787-57e9284eac82",
   "metadata": {},
   "outputs": [
    {
     "name": "stdout",
     "output_type": "stream",
     "text": [
      "   ┌───────┐┌───────┐┌───────┐┌───────┐┌───────┐┌───────┐┌───────┐┌───────┐»\n",
      "q: ┤ Ry(π) ├┤ Ry(π) ├┤ Ry(π) ├┤ Ry(π) ├┤ Ry(π) ├┤ Ry(π) ├┤ Ry(π) ├┤ Ry(π) ├»\n",
      "   └───────┘└───────┘└───────┘└───────┘└───────┘└───────┘└───────┘└───────┘»\n",
      "«   ┌───────┐┌───────┐┌───────┐┌───────┐┌───────┐┌───────┐┌───────┐┌───────┐»\n",
      "«q: ┤ Ry(π) ├┤ Ry(π) ├┤ Ry(π) ├┤ Ry(π) ├┤ Ry(π) ├┤ Ry(π) ├┤ Ry(π) ├┤ Ry(π) ├»\n",
      "«   └───────┘└───────┘└───────┘└───────┘└───────┘└───────┘└───────┘└───────┘»\n",
      "«   ┌───────┐┌───────┐┌───────┐┌───────┐┌───────┐┌───────┐┌───────┐┌───────┐»\n",
      "«q: ┤ Ry(π) ├┤ Ry(π) ├┤ Ry(π) ├┤ Ry(π) ├┤ Ry(π) ├┤ Ry(π) ├┤ Ry(π) ├┤ Ry(π) ├»\n",
      "«   └───────┘└───────┘└───────┘└───────┘└───────┘└───────┘└───────┘└───────┘»\n",
      "«   ┌───────┐┌───────┐┌───────┐┌───────┐┌───────┐┌───────┐┌───────┐┌───────┐»\n",
      "«q: ┤ Ry(π) ├┤ Ry(π) ├┤ Ry(π) ├┤ Ry(π) ├┤ Ry(π) ├┤ Ry(π) ├┤ Ry(π) ├┤ Ry(π) ├»\n",
      "«   └───────┘└───────┘└───────┘└───────┘└───────┘└───────┘└───────┘└───────┘»\n",
      "«   ┌───────┐┌───────┐┌───────┐┌───────┐┌───────┐┌───────┐┌───────┐┌───────┐»\n",
      "«q: ┤ Ry(π) ├┤ Ry(π) ├┤ Ry(π) ├┤ Ry(π) ├┤ Ry(π) ├┤ Ry(π) ├┤ Ry(π) ├┤ Ry(π) ├»\n",
      "«   └───────┘└───────┘└───────┘└───────┘└───────┘└───────┘└───────┘└───────┘»\n",
      "«   ┌───────┐┌───────┐┌───────┐┌───────┐┌───────┐┌───────┐┌───────┐┌───────┐»\n",
      "«q: ┤ Ry(π) ├┤ Ry(π) ├┤ Ry(π) ├┤ Ry(π) ├┤ Ry(π) ├┤ Ry(π) ├┤ Ry(π) ├┤ Ry(π) ├»\n",
      "«   └───────┘└───────┘└───────┘└───────┘└───────┘└───────┘└───────┘└───────┘»\n",
      "«   ┌───────┐┌───────┐┌───────┐┌───────┐┌───────┐┌───────┐┌───────┐┌───────┐»\n",
      "«q: ┤ Ry(π) ├┤ Ry(π) ├┤ Ry(π) ├┤ Ry(π) ├┤ Ry(π) ├┤ Ry(π) ├┤ Ry(π) ├┤ Ry(π) ├»\n",
      "«   └───────┘└───────┘└───────┘└───────┘└───────┘└───────┘└───────┘└───────┘»\n",
      "«   ┌───────┐┌───────┐┌───────┐┌────────┐┌────────┐┌────────┐┌────────┐»\n",
      "«q: ┤ Ry(π) ├┤ Ry(π) ├┤ Ry(π) ├┤ Ry(2π) ├┤ Ry(2π) ├┤ Ry(2π) ├┤ Ry(2π) ├»\n",
      "«   └───────┘└───────┘└───────┘└────────┘└────────┘└────────┘└────────┘»\n",
      "«   ┌────────┐┌────────┐┌────────┐┌────────┐┌────────┐┌────────┐┌────────┐»\n",
      "«q: ┤ Ry(2π) ├┤ Ry(2π) ├┤ Ry(2π) ├┤ Ry(2π) ├┤ Ry(2π) ├┤ Ry(2π) ├┤ Ry(2π) ├»\n",
      "«   └────────┘└────────┘└────────┘└────────┘└────────┘└────────┘└────────┘»\n",
      "«   ┌────────┐┌────────┐┌────────┐┌────────┐┌────────┐┌────────┐┌────────┐»\n",
      "«q: ┤ Ry(2π) ├┤ Ry(2π) ├┤ Ry(2π) ├┤ Ry(2π) ├┤ Ry(2π) ├┤ Ry(2π) ├┤ Ry(2π) ├»\n",
      "«   └────────┘└────────┘└────────┘└────────┘└────────┘└────────┘└────────┘»\n",
      "«   ┌────────┐┌────────┐┌────────┐┌────────┐┌────────┐┌────────┐┌────────┐»\n",
      "«q: ┤ Ry(2π) ├┤ Ry(2π) ├┤ Ry(2π) ├┤ Ry(2π) ├┤ Ry(2π) ├┤ Ry(2π) ├┤ Ry(2π) ├»\n",
      "«   └────────┘└────────┘└────────┘└────────┘└────────┘└────────┘└────────┘»\n",
      "«   ┌────────┐┌────────┐┌────────┐┌────────┐┌────────┐┌────────┐┌────────┐»\n",
      "«q: ┤ Ry(2π) ├┤ Ry(2π) ├┤ Ry(2π) ├┤ Ry(2π) ├┤ Ry(2π) ├┤ Ry(2π) ├┤ Ry(2π) ├»\n",
      "«   └────────┘└────────┘└────────┘└────────┘└────────┘└────────┘└────────┘»\n",
      "«   ┌────────┐┌────────┐┌────────┐┌────────┐┌────────┐┌────────┐┌────────┐»\n",
      "«q: ┤ Ry(2π) ├┤ Ry(2π) ├┤ Ry(2π) ├┤ Ry(2π) ├┤ Ry(2π) ├┤ Ry(2π) ├┤ Ry(2π) ├»\n",
      "«   └────────┘└────────┘└────────┘└────────┘└────────┘└────────┘└────────┘»\n",
      "«   ┌────────┐┌────────┐┌────────┐┌────────┐┌────────┐┌────────┐┌────────┐»\n",
      "«q: ┤ Ry(2π) ├┤ Ry(2π) ├┤ Ry(2π) ├┤ Ry(2π) ├┤ Ry(2π) ├┤ Ry(2π) ├┤ Ry(2π) ├»\n",
      "«   └────────┘└────────┘└────────┘└────────┘└────────┘└────────┘└────────┘»\n",
      "«   ┌────────┐┌────────┐┌────────┐┌────────┐┌────────┐┌────────┐┌────────┐»\n",
      "«q: ┤ Ry(2π) ├┤ Ry(2π) ├┤ Ry(2π) ├┤ Ry(2π) ├┤ Ry(2π) ├┤ Ry(2π) ├┤ Ry(2π) ├»\n",
      "«   └────────┘└────────┘└────────┘└────────┘└────────┘└────────┘└────────┘»\n",
      "«   ┌────────┐┌────────┐┌────────┐┌────────┐┌────────┐┌────────┐┌────────┐»\n",
      "«q: ┤ Ry(2π) ├┤ Ry(2π) ├┤ Ry(2π) ├┤ Ry(2π) ├┤ Ry(2π) ├┤ Ry(2π) ├┤ Ry(2π) ├»\n",
      "«   └────────┘└────────┘└────────┘└────────┘└────────┘└────────┘└────────┘»\n",
      "«   ┌────────┐┌────────┐┌────────┐┌────────┐┌────────┐┌────────┐┌────────┐»\n",
      "«q: ┤ Ry(2π) ├┤ Ry(2π) ├┤ Ry(2π) ├┤ Ry(2π) ├┤ Ry(2π) ├┤ Ry(2π) ├┤ Ry(2π) ├»\n",
      "«   └────────┘└────────┘└────────┘└────────┘└────────┘└────────┘└────────┘»\n",
      "«   ┌────────┐┌────────┐┌────────┐┌────────┐┌────────┐┌────────┐┌────────┐»\n",
      "«q: ┤ Ry(2π) ├┤ Ry(2π) ├┤ Ry(2π) ├┤ Ry(2π) ├┤ Ry(3π) ├┤ Ry(3π) ├┤ Ry(3π) ├»\n",
      "«   └────────┘└────────┘└────────┘└────────┘└────────┘└────────┘└────────┘»\n",
      "«   ┌────────┐┌────────┐┌────────┐┌────────┐┌────────┐┌────────┐┌────────┐»\n",
      "«q: ┤ Ry(3π) ├┤ Ry(3π) ├┤ Ry(3π) ├┤ Ry(3π) ├┤ Ry(3π) ├┤ Ry(3π) ├┤ Ry(3π) ├»\n",
      "«   └────────┘└────────┘└────────┘└────────┘└────────┘└────────┘└────────┘»\n",
      "«   ┌────────┐┌────────┐┌────────┐┌────────┐┌────────┐┌────────┐┌────────┐»\n",
      "«q: ┤ Ry(3π) ├┤ Ry(3π) ├┤ Ry(3π) ├┤ Ry(3π) ├┤ Ry(3π) ├┤ Ry(3π) ├┤ Ry(3π) ├»\n",
      "«   └────────┘└────────┘└────────┘└────────┘└────────┘└────────┘└────────┘»\n",
      "«   ┌────────┐┌────────┐┌────────┐┌────────┐┌────────┐┌────────┐┌────────┐»\n",
      "«q: ┤ Ry(3π) ├┤ Ry(3π) ├┤ Ry(3π) ├┤ Ry(3π) ├┤ Ry(3π) ├┤ Ry(3π) ├┤ Ry(3π) ├»\n",
      "«   └────────┘└────────┘└────────┘└────────┘└────────┘└────────┘└────────┘»\n",
      "«   ┌────────┐┌────────┐┌────────┐┌────────┐┌────────┐┌────────┐┌────────┐»\n",
      "«q: ┤ Ry(3π) ├┤ Ry(3π) ├┤ Ry(3π) ├┤ Ry(3π) ├┤ Ry(3π) ├┤ Ry(3π) ├┤ Ry(3π) ├»\n",
      "«   └────────┘└────────┘└────────┘└────────┘└────────┘└────────┘└────────┘»\n",
      "«   ┌────────┐┌────────┐┌────────┐┌────────┐┌────────┐┌────────┐┌────────┐»\n",
      "«q: ┤ Ry(3π) ├┤ Ry(3π) ├┤ Ry(3π) ├┤ Ry(3π) ├┤ Ry(3π) ├┤ Ry(3π) ├┤ Ry(3π) ├»\n",
      "«   └────────┘└────────┘└────────┘└────────┘└────────┘└────────┘└────────┘»\n",
      "«   ┌────────┐┌────────┐┌────────┐┌────────┐┌────────┐┌────────┐┌────────┐»\n",
      "«q: ┤ Ry(3π) ├┤ Ry(3π) ├┤ Ry(3π) ├┤ Ry(3π) ├┤ Ry(3π) ├┤ Ry(3π) ├┤ Ry(3π) ├»\n",
      "«   └────────┘└────────┘└────────┘└────────┘└────────┘└────────┘└────────┘»\n",
      "«   ┌────────┐┌────────┐┌────────┐\n",
      "«q: ┤ Ry(3π) ├┤ Ry(3π) ├┤ Ry(3π) ├\n",
      "«   └────────┘└────────┘└────────┘\n"
     ]
    }
   ],
   "source": [
    "X_array = X.to_numpy()\n",
    "n_qubits = X_array.shape[1]\n",
    "qc = QuantumCircuit(n_qubits)\n",
    "for row in X_array:\n",
    "    for i, feature in enumerate(row):\n",
    "        qc.ry(feature * np.pi, i)\n",
    "\n",
    "print(qc)"
   ]
  },
  {
   "cell_type": "markdown",
   "id": "6d5b0c6a-4cef-4f7a-b043-c352b862bda1",
   "metadata": {},
   "source": [
    "# Pre-Processing of data"
   ]
  },
  {
   "cell_type": "code",
   "execution_count": 33,
   "id": "d5ebf93c-c9a5-4762-8ac8-4341ac0f869d",
   "metadata": {},
   "outputs": [
    {
     "data": {
      "text/plain": [
       "((142, 13), (36, 13))"
      ]
     },
     "execution_count": 33,
     "metadata": {},
     "output_type": "execute_result"
    }
   ],
   "source": [
    "# Separating features for both datasets\n",
    "X_train, X_test, y_train, y_test = train_test_split(X, y, test_size = 0.2, random_state = 0)\n",
    "X_train.shape, X_test.shape"
   ]
  },
  {
   "cell_type": "markdown",
   "id": "94210dcf-5892-4186-8a35-64bfb59d7385",
   "metadata": {},
   "source": [
    "# Quantum Support Vector Machine"
   ]
  },
  {
   "cell_type": "code",
   "execution_count": 35,
   "id": "5f6667f2-2d8c-4b3d-aeb3-ad5050615245",
   "metadata": {},
   "outputs": [
    {
     "name": "stderr",
     "output_type": "stream",
     "text": [
      "/var/folders/pf/wyb5vhpd027g120tcw057sb80000gn/T/ipykernel_13806/1448282465.py:12: DeprecationWarning: The class ``qiskit.primitives.sampler.Sampler`` is deprecated as of qiskit 1.2. It will be removed no earlier than 3 months after the release date. All implementations of the `BaseSamplerV1` interface have been deprecated in favor of their V2 counterparts. The V2 alternative for the `Sampler` class is `StatevectorSampler`.\n",
      "  sampler = Sampler()\n",
      "/var/folders/pf/wyb5vhpd027g120tcw057sb80000gn/T/ipykernel_13806/1448282465.py:15: DeprecationWarning: V1 Primitives are deprecated as of qiskit-machine-learning 0.8.0 and will be removed no sooner than 4 months after the release date. Use V2 primitives for continued compatibility and support.\n",
      "  fidelity = ComputeUncompute(sampler=sampler)\n",
      "/Users/fibu/anaconda3/envs/jupyterlab/lib/python3.12/site-packages/sklearn/svm/_base.py:737: DataConversionWarning: A column-vector y was passed when a 1d array was expected. Please change the shape of y to (n_samples, ), for example using ravel().\n",
      "  y_ = column_or_1d(y, warn=True)\n"
     ]
    },
    {
     "name": "stdout",
     "output_type": "stream",
     "text": [
      "Training QSVM...\n"
     ]
    },
    {
     "name": "stderr",
     "output_type": "stream",
     "text": [
      "/Users/fibu/anaconda3/envs/jupyterlab/lib/python3.12/site-packages/sklearn/svm/_base.py:297: ConvergenceWarning: Solver terminated early (max_iter=100).  Consider pre-processing your data with StandardScaler or MinMaxScaler.\n",
      "  warnings.warn(\n"
     ]
    },
    {
     "name": "stdout",
     "output_type": "stream",
     "text": [
      "QSVC Score: 0.9722222222222222\n",
      "\n",
      "Classification Report:\n",
      "              precision    recall  f1-score   support\n",
      "\n",
      "           1       1.00      0.93      0.96        14\n",
      "           2       0.94      1.00      0.97        16\n",
      "           3       1.00      1.00      1.00         6\n",
      "\n",
      "    accuracy                           0.97        36\n",
      "   macro avg       0.98      0.98      0.98        36\n",
      "weighted avg       0.97      0.97      0.97        36\n",
      "\n"
     ]
    }
   ],
   "source": [
    "scaler = MinMaxScaler()\n",
    "\n",
    "X_train = scaler.fit_transform(X_train)\n",
    "X_test = scaler.transform(X_test)\n",
    "\n",
    "feature_map = ZZFeatureMap(\n",
    "    feature_dimension = X_train.shape[1],\n",
    "    reps = 1,\n",
    "    entanglement = 'full'\n",
    ")\n",
    "\n",
    "sampler = Sampler()\n",
    "\n",
    "# Subroutine that leverages the Sampler primitive\n",
    "fidelity = ComputeUncompute(sampler=sampler)\n",
    "\n",
    "kernel = FidelityQuantumKernel(fidelity=fidelity, feature_map=feature_map) \n",
    "\n",
    "# Selecting a simulating method\n",
    "quantum_instance = AerSimulator(method='statevector', shots = 1024)\n",
    "\n",
    "qsvc = QSVC(quantum_kernel=kernel, max_iter=100)\n",
    "\n",
    "print(\"Training QSVM...\")\n",
    "qsvc.fit(X_train, y_train)\n",
    "\n",
    "qsvc_score = qsvc.score(X_test, y_test)\n",
    "print(\"QSVC Score:\", qsvc_score)\n",
    "\n",
    "y_pred = qsvc.predict(X_test)\n",
    "\n",
    "print(\"\\nClassification Report:\")\n",
    "print(classification_report(y_test, y_pred))"
   ]
  },
  {
   "cell_type": "code",
   "execution_count": 43,
   "id": "47ea0cba-6cdf-4156-b6eb-b7fc299b463f",
   "metadata": {},
   "outputs": [
    {
     "name": "stdout",
     "output_type": "stream",
     "text": [
      "Quantum SVM Error Rate: 0.03\n"
     ]
    }
   ],
   "source": [
    "quantum_error_rate = 1 - accuracy_score(y_test, y_pred)\n",
    "print(f\"Quantum SVM Error Rate: {quantum_error_rate:.2f}\")"
   ]
  },
  {
   "cell_type": "code",
   "execution_count": 37,
   "id": "99905f65-5a24-4d8e-830d-f8198dfb5d35",
   "metadata": {},
   "outputs": [
    {
     "data": {
      "image/png": "[encoded data removed]",
      "text/plain": [
       "<Figure size 640x480 with 2 Axes>"
      ]
     },
     "metadata": {},
     "output_type": "display_data"
    }
   ],
   "source": [
    "from sklearn.metrics import confusion_matrix, ConfusionMatrixDisplay\n",
    "\n",
    "cm_quantum = confusion_matrix(y_test, y_pred)\n",
    "disp_quantum = ConfusionMatrixDisplay(confusion_matrix=cm_quantum)\n",
    "disp_quantum.plot(cmap='Oranges')\n",
    "plt.title('Quantum SVM Confusion Matrix')\n",
    "plt.show()"
   ]
  },
  {
   "cell_type": "code",
   "execution_count": 39,
   "id": "bec8ee5d-dfc3-443b-9af4-467eead8b060",
   "metadata": {},
   "outputs": [
    {
     "data": {
      "image/png": "[encoded data removed]",
      "text/plain": [
       "<Figure size 640x480 with 2 Axes>"
      ]
     },
     "metadata": {},
     "output_type": "display_data"
    }
   ],
   "source": [
    "from sklearn.metrics import classification_report\n",
    "import seaborn as sns\n",
    "\n",
    "report_quantum = classification_report(y_test, y_pred, output_dict=True)\n",
    "sns.heatmap(pd.DataFrame(report_quantum).iloc[:-1, :].T, annot=True, cmap='Oranges')\n",
    "plt.title('Quantum SVM Classification report')\n",
    "plt.show()"
   ]
  },
  {
   "cell_type": "code",
   "execution_count": null,
   "id": "097cab73-6d2a-4c72-8cdb-0abd30c8e0cf",
   "metadata": {},
   "outputs": [],
   "source": []
  }
 ],
 "metadata": {
  "kernelspec": {
   "display_name": "Python 3 (ipykernel)",
   "language": "python",
   "name": "python3"
  },
  "language_info": {
   "codemirror_mode": {
    "name": "ipython",
    "version": 3
   },
   "file_extension": ".py",
   "mimetype": "text/x-python",
   "name": "python",
   "nbconvert_exporter": "python",
   "pygments_lexer": "ipython3",
   "version": "3.12.7"
  }
 },
 "nbformat": 4,
 "nbformat_minor": 5
}
