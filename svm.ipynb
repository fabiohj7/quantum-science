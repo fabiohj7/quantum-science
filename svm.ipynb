{
 "cells": [
  {
   "cell_type": "code",
   "execution_count": 33,
   "id": "63b71fca-64be-404a-ba56-2d967aaacd3c",
   "metadata": {},
   "outputs": [],
   "source": [
    "import numpy as np\n",
    "import pandas as pd\n",
    "import matplotlib.pyplot as plt \n",
    "import seaborn as sns\n",
    "import warnings\n",
    "import os\n",
    "from ucimlrepo import fetch_ucirepo\n",
    "from sklearn.model_selection import train_test_split\n",
    "from sklearn.preprocessing import StandardScaler\n",
    "from sklearn.svm import SVC\n",
    "from sklearn.metrics import accuracy_score\n",
    "%matplotlib inline\n",
    "\n",
    "warnings.filterwarnings('ignore')\n",
    "\n",
    "#wine dataset has 13 features and 178 instances\n",
    "wine = fetch_ucirepo(id=109) \n",
    "  \n",
    "# data as pandas dataframes\n",
    "X = wine.data.features \n",
    "y = wine.data.targets "
   ]
  },
  {
   "cell_type": "code",
   "execution_count": 10,
   "id": "634dc7f3-bf9f-4cfb-aac1-4b5211af26ad",
   "metadata": {},
   "outputs": [
    {
     "data": {
      "text/plain": [
       "((142, 13), (36, 13))"
      ]
     },
     "execution_count": 10,
     "metadata": {},
     "output_type": "execute_result"
    }
   ],
   "source": [
    "X_train, X_test, y_train, y_test = train_test_split(X, y, test_size = 0.2, random_state = 0)\n",
    "X_train.shape, X_test.shape"
   ]
  },
  {
   "cell_type": "code",
   "execution_count": 11,
   "id": "461c46f0-2635-4aa6-adfe-822a0a78da74",
   "metadata": {},
   "outputs": [
    {
     "data": {
      "text/html": [
       "<div>\n",
       "<style scoped>\n",
       "    .dataframe tbody tr th:only-of-type {\n",
       "        vertical-align: middle;\n",
       "    }\n",
       "\n",
       "    .dataframe tbody tr th {\n",
       "        vertical-align: top;\n",
       "    }\n",
       "\n",
       "    .dataframe thead tr th {\n",
       "        text-align: left;\n",
       "    }\n",
       "</style>\n",
       "<table border=\"1\" class=\"dataframe\">\n",
       "  <thead>\n",
       "    <tr>\n",
       "      <th></th>\n",
       "      <th>Alcohol</th>\n",
       "      <th>Malicacid</th>\n",
       "      <th>Ash</th>\n",
       "      <th>Alcalinity_of_ash</th>\n",
       "      <th>Magnesium</th>\n",
       "      <th>Total_phenols</th>\n",
       "      <th>Flavanoids</th>\n",
       "      <th>Nonflavanoid_phenols</th>\n",
       "      <th>Proanthocyanins</th>\n",
       "      <th>Color_intensity</th>\n",
       "      <th>Hue</th>\n",
       "      <th>0D280_0D315_of_diluted_wines</th>\n",
       "      <th>Proline</th>\n",
       "    </tr>\n",
       "  </thead>\n",
       "  <tbody>\n",
       "    <tr>\n",
       "      <th>count</th>\n",
       "      <td>1.420000e+02</td>\n",
       "      <td>1.420000e+02</td>\n",
       "      <td>1.420000e+02</td>\n",
       "      <td>1.420000e+02</td>\n",
       "      <td>1.420000e+02</td>\n",
       "      <td>1.420000e+02</td>\n",
       "      <td>1.420000e+02</td>\n",
       "      <td>1.420000e+02</td>\n",
       "      <td>1.420000e+02</td>\n",
       "      <td>1.420000e+02</td>\n",
       "      <td>1.420000e+02</td>\n",
       "      <td>1.420000e+02</td>\n",
       "      <td>1.420000e+02</td>\n",
       "    </tr>\n",
       "    <tr>\n",
       "      <th>mean</th>\n",
       "      <td>-1.488637e-15</td>\n",
       "      <td>3.221210e-16</td>\n",
       "      <td>-2.627007e-16</td>\n",
       "      <td>-4.159427e-16</td>\n",
       "      <td>-2.001529e-16</td>\n",
       "      <td>-3.440128e-17</td>\n",
       "      <td>1.813886e-16</td>\n",
       "      <td>-2.908472e-16</td>\n",
       "      <td>1.376051e-16</td>\n",
       "      <td>1.657516e-16</td>\n",
       "      <td>-4.378344e-17</td>\n",
       "      <td>-2.376815e-16</td>\n",
       "      <td>-8.131211e-17</td>\n",
       "    </tr>\n",
       "    <tr>\n",
       "      <th>std</th>\n",
       "      <td>1.003540e+00</td>\n",
       "      <td>1.003540e+00</td>\n",
       "      <td>1.003540e+00</td>\n",
       "      <td>1.003540e+00</td>\n",
       "      <td>1.003540e+00</td>\n",
       "      <td>1.003540e+00</td>\n",
       "      <td>1.003540e+00</td>\n",
       "      <td>1.003540e+00</td>\n",
       "      <td>1.003540e+00</td>\n",
       "      <td>1.003540e+00</td>\n",
       "      <td>1.003540e+00</td>\n",
       "      <td>1.003540e+00</td>\n",
       "      <td>1.003540e+00</td>\n",
       "    </tr>\n",
       "    <tr>\n",
       "      <th>min</th>\n",
       "      <td>-2.430426e+00</td>\n",
       "      <td>-1.468929e+00</td>\n",
       "      <td>-3.746854e+00</td>\n",
       "      <td>-2.610457e+00</td>\n",
       "      <td>-2.117304e+00</td>\n",
       "      <td>-1.900899e+00</td>\n",
       "      <td>-1.521015e+00</td>\n",
       "      <td>-1.835019e+00</td>\n",
       "      <td>-2.013216e+00</td>\n",
       "      <td>-1.587346e+00</td>\n",
       "      <td>-1.804193e+00</td>\n",
       "      <td>-1.827912e+00</td>\n",
       "      <td>-1.494255e+00</td>\n",
       "    </tr>\n",
       "    <tr>\n",
       "      <th>25%</th>\n",
       "      <td>-7.924121e-01</td>\n",
       "      <td>-6.928989e-01</td>\n",
       "      <td>-5.373425e-01</td>\n",
       "      <td>-6.719116e-01</td>\n",
       "      <td>-7.791718e-01</td>\n",
       "      <td>-9.083370e-01</td>\n",
       "      <td>-9.374549e-01</td>\n",
       "      <td>-7.348929e-01</td>\n",
       "      <td>-6.171018e-01</td>\n",
       "      <td>-8.190127e-01</td>\n",
       "      <td>-7.566447e-01</td>\n",
       "      <td>-9.877434e-01</td>\n",
       "      <td>-7.633656e-01</td>\n",
       "    </tr>\n",
       "    <tr>\n",
       "      <th>50%</th>\n",
       "      <td>6.855519e-02</td>\n",
       "      <td>-4.297234e-01</td>\n",
       "      <td>-2.568133e-02</td>\n",
       "      <td>-1.601256e-02</td>\n",
       "      <td>-1.453198e-01</td>\n",
       "      <td>-7.983475e-02</td>\n",
       "      <td>8.827450e-02</td>\n",
       "      <td>-1.848300e-01</td>\n",
       "      <td>-8.666320e-02</td>\n",
       "      <td>-1.876932e-01</td>\n",
       "      <td>2.901660e-02</td>\n",
       "      <td>2.412637e-01</td>\n",
       "      <td>-2.224249e-01</td>\n",
       "    </tr>\n",
       "    <tr>\n",
       "      <th>75%</th>\n",
       "      <td>8.114115e-01</td>\n",
       "      <td>7.646884e-01</td>\n",
       "      <td>7.185532e-01</td>\n",
       "      <td>5.670088e-01</td>\n",
       "      <td>4.709253e-01</td>\n",
       "      <td>7.814794e-01</td>\n",
       "      <td>8.337921e-01</td>\n",
       "      <td>6.795545e-01</td>\n",
       "      <td>5.965417e-01</td>\n",
       "      <td>5.184572e-01</td>\n",
       "      <td>7.273822e-01</td>\n",
       "      <td>8.071624e-01</td>\n",
       "      <td>6.290406e-01</td>\n",
       "    </tr>\n",
       "    <tr>\n",
       "      <th>max</th>\n",
       "      <td>2.194554e+00</td>\n",
       "      <td>2.948820e+00</td>\n",
       "      <td>3.174527e+00</td>\n",
       "      <td>3.044849e+00</td>\n",
       "      <td>4.362073e+00</td>\n",
       "      <td>2.659965e+00</td>\n",
       "      <td>1.841526e+00</td>\n",
       "      <td>2.329743e+00</td>\n",
       "      <td>3.350579e+00</td>\n",
       "      <td>3.353598e+00</td>\n",
       "      <td>3.302605e+00</td>\n",
       "      <td>1.963262e+00</td>\n",
       "      <td>2.658188e+00</td>\n",
       "    </tr>\n",
       "  </tbody>\n",
       "</table>\n",
       "</div>"
      ],
      "text/plain": [
       "            Alcohol     Malicacid           Ash Alcalinity_of_ash  \\\n",
       "count  1.420000e+02  1.420000e+02  1.420000e+02      1.420000e+02   \n",
       "mean  -1.488637e-15  3.221210e-16 -2.627007e-16     -4.159427e-16   \n",
       "std    1.003540e+00  1.003540e+00  1.003540e+00      1.003540e+00   \n",
       "min   -2.430426e+00 -1.468929e+00 -3.746854e+00     -2.610457e+00   \n",
       "25%   -7.924121e-01 -6.928989e-01 -5.373425e-01     -6.719116e-01   \n",
       "50%    6.855519e-02 -4.297234e-01 -2.568133e-02     -1.601256e-02   \n",
       "75%    8.114115e-01  7.646884e-01  7.185532e-01      5.670088e-01   \n",
       "max    2.194554e+00  2.948820e+00  3.174527e+00      3.044849e+00   \n",
       "\n",
       "          Magnesium Total_phenols    Flavanoids Nonflavanoid_phenols  \\\n",
       "count  1.420000e+02  1.420000e+02  1.420000e+02         1.420000e+02   \n",
       "mean  -2.001529e-16 -3.440128e-17  1.813886e-16        -2.908472e-16   \n",
       "std    1.003540e+00  1.003540e+00  1.003540e+00         1.003540e+00   \n",
       "min   -2.117304e+00 -1.900899e+00 -1.521015e+00        -1.835019e+00   \n",
       "25%   -7.791718e-01 -9.083370e-01 -9.374549e-01        -7.348929e-01   \n",
       "50%   -1.453198e-01 -7.983475e-02  8.827450e-02        -1.848300e-01   \n",
       "75%    4.709253e-01  7.814794e-01  8.337921e-01         6.795545e-01   \n",
       "max    4.362073e+00  2.659965e+00  1.841526e+00         2.329743e+00   \n",
       "\n",
       "      Proanthocyanins Color_intensity           Hue  \\\n",
       "count    1.420000e+02    1.420000e+02  1.420000e+02   \n",
       "mean     1.376051e-16    1.657516e-16 -4.378344e-17   \n",
       "std      1.003540e+00    1.003540e+00  1.003540e+00   \n",
       "min     -2.013216e+00   -1.587346e+00 -1.804193e+00   \n",
       "25%     -6.171018e-01   -8.190127e-01 -7.566447e-01   \n",
       "50%     -8.666320e-02   -1.876932e-01  2.901660e-02   \n",
       "75%      5.965417e-01    5.184572e-01  7.273822e-01   \n",
       "max      3.350579e+00    3.353598e+00  3.302605e+00   \n",
       "\n",
       "      0D280_0D315_of_diluted_wines       Proline  \n",
       "count                 1.420000e+02  1.420000e+02  \n",
       "mean                 -2.376815e-16 -8.131211e-17  \n",
       "std                   1.003540e+00  1.003540e+00  \n",
       "min                  -1.827912e+00 -1.494255e+00  \n",
       "25%                  -9.877434e-01 -7.633656e-01  \n",
       "50%                   2.412637e-01 -2.224249e-01  \n",
       "75%                   8.071624e-01  6.290406e-01  \n",
       "max                   1.963262e+00  2.658188e+00  "
      ]
     },
     "execution_count": 11,
     "metadata": {},
     "output_type": "execute_result"
    }
   ],
   "source": [
    "cols = X_train.columns\n",
    "scaler = StandardScaler()\n",
    "X_train = scaler.fit_transform(X_train)\n",
    "X_test = scaler.transform(X_test)\n",
    "X_train = pd.DataFrame(X_train, columns=[cols])\n",
    "X_test = pd.DataFrame(X_test, columns=[cols])\n",
    "X_train.describe()"
   ]
  },
  {
   "cell_type": "code",
   "execution_count": 12,
   "id": "4dfa440d-08c5-45f1-9a39-20edb7a94b57",
   "metadata": {},
   "outputs": [
    {
     "name": "stdout",
     "output_type": "stream",
     "text": [
      "Accuracy score with default parameters: 1.0000\n"
     ]
    }
   ],
   "source": [
    "#svm with default parameters\n",
    "svc=SVC()\n",
    "svc.fit(X_train,y_train)\n",
    "y_pred=svc.predict(X_test)\n",
    "print('Accuracy score with default parameters: {0:0.4f}'. format(accuracy_score(y_test, y_pred)))"
   ]
  },
  {
   "cell_type": "code",
   "execution_count": 13,
   "id": "33e7a924-3566-4e95-9f85-7392086e96e5",
   "metadata": {},
   "outputs": [
    {
     "name": "stdout",
     "output_type": "stream",
     "text": [
      "Accuracy score with rbf kernel and C=100.0 : 1.0000\n"
     ]
    }
   ],
   "source": [
    "#svm with rbf kernel\n",
    "svc=SVC(C=100.0) \n",
    "svc.fit(X_train,y_train)\n",
    "y_pred=svc.predict(X_test)\n",
    "print('Accuracy score with rbf kernel and C=100.0 : {0:0.4f}'. format(accuracy_score(y_test, y_pred)))"
   ]
  },
  {
   "cell_type": "code",
   "execution_count": 14,
   "id": "42ce38a2-6f50-4ad1-9282-83646754f208",
   "metadata": {},
   "outputs": [
    {
     "name": "stdout",
     "output_type": "stream",
     "text": [
      "Accuracy score with linear kernel and C=1.0 : 1.0000\n"
     ]
    }
   ],
   "source": [
    "#svm with linear kernel\n",
    "linear_svc=SVC(kernel='linear', C=1.0) \n",
    "linear_svc.fit(X_train,y_train)\n",
    "y_pred_test=linear_svc.predict(X_test)\n",
    "print('Accuracy score with linear kernel and C=1.0 : {0:0.4f}'. format(accuracy_score(y_test, y_pred_test)))"
   ]
  },
  {
   "cell_type": "code",
   "execution_count": 15,
   "id": "4f96254c-a892-4ddf-8c97-b6d39c718eda",
   "metadata": {},
   "outputs": [
    {
     "name": "stdout",
     "output_type": "stream",
     "text": [
      "Accuracy score with linear kernel and C=100.0 : 1.0000\n"
     ]
    }
   ],
   "source": [
    "#svm with linear kernel and C=100\n",
    "linear_svc100=SVC(kernel='linear', C=100.0) \n",
    "linear_svc100.fit(X_train,y_train)\n",
    "y_pred=linear_svc100.predict(X_test)\n",
    "print('Accuracy score with linear kernel and C=100.0 : {0:0.4f}'. format(accuracy_score(y_test, y_pred_test)))"
   ]
  },
  {
   "cell_type": "code",
   "execution_count": 16,
   "id": "72b5bf54-1296-49e9-9371-b916f4116ee8",
   "metadata": {},
   "outputs": [
    {
     "data": {
      "text/plain": [
       "array([3, 2, 2, 3, 1, 1, 2, 2, 2, 1, 3, 2, 3, 1, 3, 3, 1, 3, 1, 2, 3, 3,\n",
       "       2, 3, 3, 1, 2, 3, 2, 2, 3, 2, 1, 2, 2, 2, 1, 1, 2, 2, 3, 3, 2, 2,\n",
       "       2, 3, 3, 1, 3, 2, 2, 2, 2, 2, 1, 1, 2, 1, 3, 1, 3, 1, 1, 2, 1, 2,\n",
       "       2, 1, 3, 2, 1, 2, 2, 2, 3, 1, 3, 3, 1, 1, 2, 3, 1, 1, 2, 2, 1, 1,\n",
       "       1, 3, 2, 1, 2, 3, 1, 2, 3, 3, 1, 1, 3, 1, 3, 2, 1, 1, 2, 1, 3, 2,\n",
       "       3, 1, 3, 3, 3, 1, 2, 2, 2, 2, 3, 3, 2, 2, 1, 2, 3, 3, 1, 1, 3, 2,\n",
       "       2, 2, 1, 1, 1, 2, 2, 2, 1, 3])"
      ]
     },
     "execution_count": 16,
     "metadata": {},
     "output_type": "execute_result"
    }
   ],
   "source": [
    "y_pred_train = linear_svc.predict(X_train)\n",
    "y_pred_train"
   ]
  },
  {
   "cell_type": "code",
   "execution_count": 17,
   "id": "0dcb66ce-223c-4eab-9cbe-a50cadc9c7ca",
   "metadata": {},
   "outputs": [
    {
     "name": "stdout",
     "output_type": "stream",
     "text": [
      "Training-set accuracy score: 1.0000\n"
     ]
    }
   ],
   "source": [
    "print('Training-set accuracy score: {0:0.4f}'. format(accuracy_score(y_train, y_pred_train)))"
   ]
  },
  {
   "cell_type": "code",
   "execution_count": 18,
   "id": "dac376c8-6dd9-46db-9ea2-a5f6e1d1074c",
   "metadata": {},
   "outputs": [
    {
     "name": "stdout",
     "output_type": "stream",
     "text": [
      "Training set score: 1.0000\n",
      "Test set score: 1.0000\n"
     ]
    }
   ],
   "source": [
    "#checking for overfitting and underfitting\n",
    "print('Training set score: {:.4f}'.format(linear_svc.score(X_train, y_train)))\n",
    "print('Test set score: {:.4f}'.format(linear_svc.score(X_test, y_test)))"
   ]
  },
  {
   "cell_type": "code",
   "execution_count": 34,
   "id": "5a12a724-8264-439a-9c65-e9af8f83482b",
   "metadata": {},
   "outputs": [
    {
     "name": "stdout",
     "output_type": "stream",
     "text": [
      "Accuracy score with polynomial kernel and C=1.0 : 0.9444\n"
     ]
    }
   ],
   "source": [
    "#svm with polynomial kernel\n",
    "poly_svc=SVC(kernel='poly', C=1.0) \n",
    "poly_svc.fit(X_train,y_train)\n",
    "y_pred=poly_svc.predict(X_test)\n",
    "print('Accuracy score with polynomial kernel and C=1.0 : {0:0.4f}'. format(accuracy_score(y_test, y_pred)))"
   ]
  },
  {
   "cell_type": "code",
   "execution_count": 22,
   "id": "e01f9443-c190-497a-976e-7528e97bee74",
   "metadata": {},
   "outputs": [
    {
     "name": "stdout",
     "output_type": "stream",
     "text": [
      "Accuracy score with polynomial kernel and C=100.0 : 0.9722\n"
     ]
    }
   ],
   "source": [
    "#svm with polynomial kernel and C=100\n",
    "poly_svc100=SVC(kernel='poly', C=100.0) \n",
    "poly_svc100.fit(X_train,y_train)\n",
    "y_pred=poly_svc100.predict(X_test)\n",
    "print('Accuracy score with polynomial kernel and C=100.0 : {0:0.4f}'. format(accuracy_score(y_test, y_pred)))"
   ]
  },
  {
   "cell_type": "code",
   "execution_count": 38,
   "id": "874f4120-fd19-415e-9df1-b81d27885199",
   "metadata": {},
   "outputs": [
    {
     "name": "stdout",
     "output_type": "stream",
     "text": [
      "Accuracy score with sigmoid kernel and C=1.0 : 0.9722\n"
     ]
    }
   ],
   "source": [
    "#svm with sigmoid kernel\n",
    "sigmoid_svc=SVC(kernel='sigmoid', C=1.0) \n",
    "sigmoid_svc.fit(X_train,y_train)\n",
    "y_pred=sigmoid_svc.predict(X_test)\n",
    "print('Accuracy score with sigmoid kernel and C=1.0 : {0:0.4f}'. format(accuracy_score(y_test, y_pred)))"
   ]
  },
  {
   "cell_type": "code",
   "execution_count": 24,
   "id": "fc299f65-dbff-455b-92d6-a02e81e899e1",
   "metadata": {},
   "outputs": [
    {
     "name": "stdout",
     "output_type": "stream",
     "text": [
      "Classical SVM Error Rate: 0.03\n"
     ]
    }
   ],
   "source": [
    "classical_error_rate = 1 - accuracy_score(y_test, y_pred)\n",
    "print(f\"Classical SVM Error Rate: {classical_error_rate:.2f}\")"
   ]
  },
  {
   "cell_type": "code",
   "execution_count": 39,
   "id": "27c58a90-ef39-4ef2-9679-33bc918d9d5d",
   "metadata": {},
   "outputs": [
    {
     "data": {
      "image/png": "[encoded data removed]",
      "text/plain": [
       "<Figure size 640x480 with 2 Axes>"
      ]
     },
     "metadata": {},
     "output_type": "display_data"
    }
   ],
   "source": [
    "from sklearn.metrics import confusion_matrix, ConfusionMatrixDisplay\n",
    "\n",
    "cm_classical = confusion_matrix(y_test, y_pred)\n",
    "disp_classical = ConfusionMatrixDisplay(confusion_matrix=cm_classical)\n",
    "disp_classical.plot(cmap='Blues')\n",
    "plt.title('Classical SVM Confusion Matrix')\n",
    "plt.show()"
   ]
  },
  {
   "cell_type": "code",
   "execution_count": 40,
   "id": "d38fdfe8-7007-4975-8133-879c7e152132",
   "metadata": {},
   "outputs": [
    {
     "data": {
      "image/png": "[encoded data removed]",
      "text/plain": [
       "<Figure size 640x480 with 2 Axes>"
      ]
     },
     "metadata": {},
     "output_type": "display_data"
    }
   ],
   "source": [
    "from sklearn.metrics import classification_report\n",
    "import seaborn as sns\n",
    "\n",
    "report_classical = classification_report(y_test, y_pred, output_dict=True)\n",
    "sns.heatmap(pd.DataFrame(report_classical).iloc[:-1, :].T, annot=True, cmap='Blues')\n",
    "plt.title('Classical SVM Classification report')\n",
    "plt.show()"
   ]
  },
  {
   "cell_type": "code",
   "execution_count": null,
   "id": "4d8370b2-7494-458b-8b43-0f24f4bcb717",
   "metadata": {},
   "outputs": [],
   "source": []
  }
 ],
 "metadata": {
  "kernelspec": {
   "display_name": "Python 3 (ipykernel)",
   "language": "python",
   "name": "python3"
  },
  "language_info": {
   "codemirror_mode": {
    "name": "ipython",
    "version": 3
   },
   "file_extension": ".py",
   "mimetype": "text/x-python",
   "name": "python",
   "nbconvert_exporter": "python",
   "pygments_lexer": "ipython3",
   "version": "3.12.7"
  }
 },
 "nbformat": 4,
 "nbformat_minor": 5
}
